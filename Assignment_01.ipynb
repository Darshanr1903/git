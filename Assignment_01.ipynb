{
  "nbformat": 4,
  "nbformat_minor": 0,
  "metadata": {
    "colab": {
      "provenance": []
    },
    "kernelspec": {
      "name": "python3",
      "display_name": "Python 3"
    },
    "language_info": {
      "name": "python"
    }
  },
  "cells": [
    {
      "cell_type": "markdown",
      "source": [
        "Question 1\n",
        "code to reverse a string"
      ],
      "metadata": {
        "id": "BE45TSg8ybhT"
      }
    },
    {
      "cell_type": "code",
      "source": [
        "str1=input(\"enter the string to be reversed : \")\n",
        "str1=str1[::-1]\n",
        "print(str1)"
      ],
      "metadata": {
        "colab": {
          "base_uri": "https://localhost:8080/"
        },
        "id": "Ybau2CLoyc1C",
        "outputId": "cf12e355-7a01-47e2-b913-292dda128309"
      },
      "execution_count": null,
      "outputs": [
        {
          "output_type": "stream",
          "name": "stdout",
          "text": [
            "enter the string to be reversed : DARSHAN\n",
            "NAHSRAD\n"
          ]
        }
      ]
    },
    {
      "cell_type": "markdown",
      "source": [
        "Question 2) Count the no of vowels\n"
      ],
      "metadata": {
        "id": "tPBdhPLkzxWe"
      }
    },
    {
      "cell_type": "code",
      "source": [
        "str1=input(\"enter the string : \")\n",
        "count=0\n",
        "for i in str1:\n",
        "  if(i=='a'or i=='e'or i=='i'or i=='o' or i=='u' or i=='A' or i=='E' or i=='I' or i=='O' or i=='U'):\n",
        "    count+=1\n",
        "print(count)"
      ],
      "metadata": {
        "colab": {
          "base_uri": "https://localhost:8080/"
        },
        "id": "NClz1ffbz8F1",
        "outputId": "dee4eda0-f4e7-4431-8462-d99e683ed270"
      },
      "execution_count": null,
      "outputs": [
        {
          "output_type": "stream",
          "name": "stdout",
          "text": [
            "enter the string : Darshan\n",
            "2\n"
          ]
        }
      ]
    },
    {
      "cell_type": "markdown",
      "source": [
        "**bold text**Question 3) To check palindrome"
      ],
      "metadata": {
        "id": "XyY8mxCu1Mry"
      }
    },
    {
      "cell_type": "code",
      "source": [
        "str2=input(\"enter the string : \")\n",
        "str3=str2[::-1]\n",
        "print(str2==str3)"
      ],
      "metadata": {
        "colab": {
          "base_uri": "https://localhost:8080/"
        },
        "id": "tWeTjlDD1ZKs",
        "outputId": "bfa402cc-97b4-4099-c8aa-3f28a41bd261"
      },
      "execution_count": null,
      "outputs": [
        {
          "output_type": "stream",
          "name": "stdout",
          "text": [
            "enter the string : Darshan\n",
            "False\n"
          ]
        }
      ]
    },
    {
      "cell_type": "markdown",
      "source": [
        "Question 4) Code to check if given strings are anagram"
      ],
      "metadata": {
        "id": "SFI4RWvq2EZj"
      }
    },
    {
      "cell_type": "code",
      "source": [
        "str4=input(\"enter the string1 : \")\n",
        "str5=input(\"enter the string2 : \")\n",
        "str4=sorted(str4)\n",
        "str5=sorted(str5)\n",
        "print(str4==str5)"
      ],
      "metadata": {
        "colab": {
          "base_uri": "https://localhost:8080/"
        },
        "id": "4dGArwLR2V4-",
        "outputId": "1c093517-f532-4913-c1f5-060e41e8256b"
      },
      "execution_count": null,
      "outputs": [
        {
          "output_type": "stream",
          "name": "stdout",
          "text": [
            "enter the string1 : abc\n",
            "enter the string2 : cba\n",
            "True\n"
          ]
        }
      ]
    },
    {
      "cell_type": "markdown",
      "source": [
        "Question 5) to find occurence of a given substring within another string"
      ],
      "metadata": {
        "id": "_Jrei5uF3wPm"
      }
    },
    {
      "cell_type": "code",
      "source": [
        "substr=input(\"enter the substring : \")\n",
        "string=input(\" enter the main string : \")\n",
        "string.count(substr)"
      ],
      "metadata": {
        "colab": {
          "base_uri": "https://localhost:8080/"
        },
        "id": "_0z1Zfuh4Dl5",
        "outputId": "f7aceea0-8fae-427e-a6d1-e5381d763246"
      },
      "execution_count": null,
      "outputs": [
        {
          "name": "stdout",
          "output_type": "stream",
          "text": [
            "enter the substring : sha\n",
            " enter the main string : darshanshaaishushareethusha\n"
          ]
        },
        {
          "output_type": "execute_result",
          "data": {
            "text/plain": [
              "4"
            ]
          },
          "metadata": {},
          "execution_count": 14
        }
      ]
    },
    {
      "cell_type": "markdown",
      "source": [
        "Question 6) Code to perform basic string compression using the counts of repeted characters"
      ],
      "metadata": {
        "id": "HWszYl7x6GyR"
      }
    },
    {
      "cell_type": "code",
      "source": [
        "string_duplicate=input(\"enter the string to be compressed : \")\n",
        "soriginal=\"\"\n",
        "set1={}\n",
        "set1=set(set1)\n",
        "for i in string_duplicate:\n",
        "  set1.update(i)\n",
        "for i in set1:\n",
        "  soriginal+=i\n",
        "print(soriginal)\n",
        "\n",
        "\n"
      ],
      "metadata": {
        "colab": {
          "base_uri": "https://localhost:8080/"
        },
        "id": "nsXBJqWV6cA6",
        "outputId": "fab0b939-2ac1-46ce-fd4d-2b155bd21f50"
      },
      "execution_count": null,
      "outputs": [
        {
          "output_type": "stream",
          "name": "stdout",
          "text": [
            "enter the string to be compressed : darshan\n",
            "snhrad\n"
          ]
        }
      ]
    },
    {
      "cell_type": "markdown",
      "source": [
        "Question 7) Code to check if the given string contains unique characters"
      ],
      "metadata": {
        "id": "_itGn4a5-8_Y"
      }
    },
    {
      "cell_type": "code",
      "source": [
        "string_duplicate=input(\"enter the string to be compressed : \")\n",
        "set1={}\n",
        "set1=set(set1)\n",
        "for i in string_duplicate:\n",
        "  set1.update(i)\n",
        "print(len(set1)==len(string_duplicate))"
      ],
      "metadata": {
        "colab": {
          "base_uri": "https://localhost:8080/"
        },
        "id": "kFmGjMCr_qMA",
        "outputId": "4ed2bc18-95c9-4b69-8755-b9d98909054e"
      },
      "execution_count": null,
      "outputs": [
        {
          "output_type": "stream",
          "name": "stdout",
          "text": [
            "enter the string to be compressed : darshn\n",
            "True\n"
          ]
        }
      ]
    },
    {
      "cell_type": "markdown",
      "source": [
        "Question 8) converting a given string to uppercase or lowercase"
      ],
      "metadata": {
        "id": "rRkMXWFtAtGX"
      }
    },
    {
      "cell_type": "code",
      "source": [
        "stringr=input(\"enter the string : \")\n",
        "stringr=stringr.upper()\n",
        "print(stringr)"
      ],
      "metadata": {
        "colab": {
          "base_uri": "https://localhost:8080/"
        },
        "id": "_AG8LajDBFG8",
        "outputId": "0aa2f78c-3a2a-4740-80bf-cfde4b40445b"
      },
      "execution_count": null,
      "outputs": [
        {
          "output_type": "stream",
          "name": "stdout",
          "text": [
            "enter the string : darshan\n",
            "DARSHAN\n"
          ]
        }
      ]
    },
    {
      "cell_type": "markdown",
      "source": [
        "Question 9) Code to count number of words in a given string"
      ],
      "metadata": {
        "id": "9phwhChBB0T8"
      }
    },
    {
      "cell_type": "code",
      "source": [
        "string=input(\"Enter the string : \")\n",
        "list1=list(string.split(' '))\n",
        "print(len(list1))"
      ],
      "metadata": {
        "colab": {
          "base_uri": "https://localhost:8080/"
        },
        "id": "oDC7SAhiCCJ1",
        "outputId": "e35b3df3-6f85-4e3f-d2f9-8b38f8b7f412"
      },
      "execution_count": null,
      "outputs": [
        {
          "output_type": "stream",
          "name": "stdout",
          "text": [
            "Enter the string : hi mysely darshan R pursuing btech from nit silchar assam\n",
            "10\n"
          ]
        }
      ]
    },
    {
      "cell_type": "markdown",
      "source": [
        "Question  10) concatination without using + operator"
      ],
      "metadata": {
        "id": "KbNHP9s6Gij_"
      }
    },
    {
      "cell_type": "code",
      "source": [
        "string1=input(\" enter the string1 : \")\n",
        "string2=input(\" enter the string2 : \")\n",
        "string2=\"\".join([string1,string2])\n",
        "print(string2)"
      ],
      "metadata": {
        "colab": {
          "base_uri": "https://localhost:8080/"
        },
        "id": "T9zEbcTcGtIL",
        "outputId": "92a91405-0dbf-41c1-b9d0-f84bae466088"
      },
      "execution_count": null,
      "outputs": [
        {
          "output_type": "stream",
          "name": "stdout",
          "text": [
            " enter the string1 : darsh\n",
            " enter the string2 : an R\n",
            "darshan R\n"
          ]
        }
      ]
    },
    {
      "cell_type": "markdown",
      "source": [
        "Question 11) Removing all occurence of specific element from list"
      ],
      "metadata": {
        "id": "XSMYU5ln8KkP"
      }
    },
    {
      "cell_type": "code",
      "source": [
        "list1=[1,2,3,4,5,1,1,1,1]\n",
        "item=1\n",
        "list1=[i for i in list1 if i!=item]\n",
        "print(list1)\n",
        "#using filter\n",
        "list1=[1,2,3,4,5,1,1,1,1]\n",
        "item=1\n",
        "list1=list(filter(lambda x: x!=item,list1))\n",
        "print(list1)\n",
        "\n",
        "\n",
        "\n"
      ],
      "metadata": {
        "colab": {
          "base_uri": "https://localhost:8080/"
        },
        "id": "HZHU2NoF8w_A",
        "outputId": "49193904-90d5-42af-ee25-2218125990b6"
      },
      "execution_count": null,
      "outputs": [
        {
          "output_type": "stream",
          "name": "stdout",
          "text": [
            "[2, 3, 4, 5]\n"
          ]
        }
      ]
    },
    {
      "cell_type": "markdown",
      "source": [
        "Question 12) Code to find the second largest in a list"
      ],
      "metadata": {
        "id": "Ul_GNTIpMIjB"
      }
    },
    {
      "cell_type": "code",
      "source": [
        "list1=[1,2,3,4,5,6,7,8,9]\n",
        "list1=sorted(list1)\n",
        "max1=list1[len(list1)-1]\n",
        "max2=list1[len(list1)-2]\n",
        "print(max1,max2)"
      ],
      "metadata": {
        "colab": {
          "base_uri": "https://localhost:8080/"
        },
        "id": "fZUIuXGLMTb9",
        "outputId": "ec0ccbfe-2ba8-407f-bfd0-7f6695035cc3"
      },
      "execution_count": null,
      "outputs": [
        {
          "output_type": "stream",
          "name": "stdout",
          "text": [
            "9 8\n"
          ]
        }
      ]
    },
    {
      "cell_type": "markdown",
      "source": [
        "Question 13)count the occurrense of elements in the list"
      ],
      "metadata": {
        "id": "U1jcMpkxQgIr"
      }
    },
    {
      "cell_type": "code",
      "source": [
        "dict1={}\n",
        "list1=[1,2,3,4,5,1,2,1,2,3,4,5,6,6,6,4]\n",
        "for i in list1:\n",
        "  if i not in dict1 :\n",
        "    dict1[i]=0\n",
        "    dict1[i]+=1\n",
        "  else:\n",
        "    dict1[i]+=1\n",
        "print(dict1)"
      ],
      "metadata": {
        "colab": {
          "base_uri": "https://localhost:8080/"
        },
        "id": "WE7aj5MrRSmw",
        "outputId": "aa3ff226-5cef-46d9-9b1f-5df9e2465312"
      },
      "execution_count": null,
      "outputs": [
        {
          "output_type": "stream",
          "name": "stdout",
          "text": [
            "{1: 3, 2: 3, 3: 2, 4: 3, 5: 2, 6: 3}\n"
          ]
        }
      ]
    },
    {
      "cell_type": "markdown",
      "source": [
        "Question 14) Code to reverse a list without using built in function"
      ],
      "metadata": {
        "id": "XDTdVmz1UEEK"
      }
    },
    {
      "cell_type": "code",
      "source": [
        "list1=[1,2,3,4,5,6,7,8,9]\n",
        "list1=list1[::-1]\n",
        "print(list1)"
      ],
      "metadata": {
        "colab": {
          "base_uri": "https://localhost:8080/"
        },
        "id": "cGBeSvYuURLm",
        "outputId": "54e8f3fd-aa3e-4d01-bcf0-3ed0c46b709d"
      },
      "execution_count": null,
      "outputs": [
        {
          "output_type": "stream",
          "name": "stdout",
          "text": [
            "[9, 8, 7, 6, 5, 4, 3, 2, 1]\n"
          ]
        }
      ]
    },
    {
      "cell_type": "markdown",
      "source": [
        "Question 15) removing duplicate elements while preserving the order"
      ],
      "metadata": {
        "id": "drJySx_EUlrm"
      }
    },
    {
      "cell_type": "code",
      "source": [
        "list1=[1,2,1,3,3,2,1,4,5,6]\n",
        "dict1={}\n",
        "dict1=set(dict1)\n",
        "for i in list1:\n",
        "  if i not in dict1:\n",
        "    dict1.add(i)\n",
        "  else:\n",
        "    list1.pop(list1.index(i))\n",
        "print(list1)\n"
      ],
      "metadata": {
        "colab": {
          "base_uri": "https://localhost:8080/"
        },
        "id": "cBH1oNRBVCgp",
        "outputId": "618b5acb-c11a-47b3-d745-fc0b6c3cc1d3"
      },
      "execution_count": null,
      "outputs": [
        {
          "output_type": "stream",
          "name": "stdout",
          "text": [
            "[1, 3, 3, 2, 1, 4, 5, 6]\n"
          ]
        }
      ]
    },
    {
      "cell_type": "markdown",
      "source": [
        "Question 16) Check if the given list is sorted or not"
      ],
      "metadata": {
        "id": "oUkicQlyjfWS"
      }
    },
    {
      "cell_type": "code",
      "source": [
        "list1=[5,4,2,3,1]\n",
        "\n",
        "flag1=(list1==sorted(list1))\n",
        "list1.reverse()\n",
        "flag2=(list1==sorted(list1))\n",
        "flag1 or flag2"
      ],
      "metadata": {
        "colab": {
          "base_uri": "https://localhost:8080/"
        },
        "id": "kmVAaSO5j2n-",
        "outputId": "1203ef4a-5400-4aca-854a-3afb7511a97a"
      },
      "execution_count": null,
      "outputs": [
        {
          "output_type": "execute_result",
          "data": {
            "text/plain": [
              "False"
            ]
          },
          "metadata": {},
          "execution_count": 86
        }
      ]
    },
    {
      "cell_type": "markdown",
      "source": [
        "Question 17)Merge 2 sortede list into a single sorted list"
      ],
      "metadata": {
        "id": "CMol2Rx5m0C7"
      }
    },
    {
      "cell_type": "code",
      "source": [
        "list1=[1,3,5,7]\n",
        "list2=[2,4,6]\n",
        "list1=sorted(list1+list2)\n",
        "print(list1)"
      ],
      "metadata": {
        "colab": {
          "base_uri": "https://localhost:8080/"
        },
        "id": "08_Q3eXznEFJ",
        "outputId": "1ccd559a-77c6-4928-a62f-97e3151cdf32"
      },
      "execution_count": null,
      "outputs": [
        {
          "output_type": "stream",
          "name": "stdout",
          "text": [
            "[1, 2, 3, 4, 5, 6, 7]\n"
          ]
        }
      ]
    },
    {
      "cell_type": "markdown",
      "source": [
        "Question 18 code to find intersection of 2 lists"
      ],
      "metadata": {
        "id": "W4_yy22bou91"
      }
    },
    {
      "cell_type": "code",
      "source": [
        "list1=[1,2,3,4,5,6,7]\n",
        "list2=[2,4,6,8]\n",
        "list3=[]\n",
        "set1={}\n",
        "set1=set(set1)\n",
        "if len(list1)<=len(list2):\n",
        "    set1=set(list1)\n",
        "    for i in list2:\n",
        "      if i in set1:\n",
        "        list3.append(i)\n",
        "else:\n",
        "  set1=set(list2)\n",
        "  for i in list1:\n",
        "      if i in set1:\n",
        "        list3.append(i)\n",
        "print(list3)"
      ],
      "metadata": {
        "colab": {
          "base_uri": "https://localhost:8080/"
        },
        "id": "sFJXnTkwo4rM",
        "outputId": "920fb012-8a15-4536-8663-f28fb471e9f2"
      },
      "execution_count": null,
      "outputs": [
        {
          "output_type": "stream",
          "name": "stdout",
          "text": [
            "[2, 4, 6]\n"
          ]
        }
      ]
    },
    {
      "cell_type": "markdown",
      "source": [
        "Question 19) To find union of 2 list without duplicate"
      ],
      "metadata": {
        "id": "KhERL_Lesnlk"
      }
    },
    {
      "cell_type": "code",
      "source": [
        "list1=[1,2,3,4,5,1,6,7]\n",
        "list2=[2,4,2,6,8]\n",
        "set1={}\n",
        "set1=set(set1)\n",
        "set1=set(list1)\n",
        "set1.update(list2)\n",
        "print(set1)\n",
        "list3=[]\n",
        "for i in set1:\n",
        "  list3.append(i)\n",
        "print(list3)"
      ],
      "metadata": {
        "colab": {
          "base_uri": "https://localhost:8080/"
        },
        "id": "mqHSF8H-s1l0",
        "outputId": "3c76c59e-ceaa-478a-87b1-fe8148afc49e"
      },
      "execution_count": null,
      "outputs": [
        {
          "output_type": "stream",
          "name": "stdout",
          "text": [
            "{1, 2, 3, 4, 5, 6, 7, 8}\n",
            "[1, 2, 3, 4, 5, 6, 7, 8]\n"
          ]
        }
      ]
    },
    {
      "cell_type": "markdown",
      "source": [
        "Question 20) shuffle the list without using any built in shuffle function"
      ],
      "metadata": {
        "id": "gx3h1fT5w57P"
      }
    },
    {
      "cell_type": "code",
      "source": [
        "import random as ra\n",
        "list1=[1,2,3,4,5,6,7]\n",
        "list1=sorted(list1,key=lambda x : random.random())\n",
        "print(list1)"
      ],
      "metadata": {
        "colab": {
          "base_uri": "https://localhost:8080/"
        },
        "id": "DvU-7m9Hw5Z2",
        "outputId": "43ccb4c5-581d-4214-d0bb-3baf43505ce1"
      },
      "execution_count": null,
      "outputs": [
        {
          "output_type": "stream",
          "name": "stdout",
          "text": [
            "[7, 5, 6, 4, 1, 3, 2]\n"
          ]
        }
      ]
    },
    {
      "cell_type": "markdown",
      "source": [
        "Question 21) Intersection of two tuples"
      ],
      "metadata": {
        "id": "x52BNU2fSS-i"
      }
    },
    {
      "cell_type": "code",
      "source": [
        "#acutally we cannot return new tuple as tuple are immutable\n",
        "t1=(1,2,3,4,'ajay',3+2j,1+1j,True)\n",
        "t2=(1,2,'ajay',3+2j,5,True)\n",
        "#default t1 is of higher length\n",
        "def intersection(t1=(),t2=()):\n",
        "  t3=set(())\n",
        "  for i in t1:\n",
        "    for j  in t2:\n",
        "      if i==j:\n",
        "        t3.add(i)\n",
        "  return t3\n",
        "intersection(t1,t2)\n"
      ],
      "metadata": {
        "colab": {
          "base_uri": "https://localhost:8080/"
        },
        "id": "XnDLMtYeScOh",
        "outputId": "a4a4e159-d733-4b87-a0e5-6233b4b95ddf"
      },
      "execution_count": null,
      "outputs": [
        {
          "output_type": "execute_result",
          "data": {
            "text/plain": [
              "{(3+2j), 1, 2, 'ajay'}"
            ]
          },
          "metadata": {},
          "execution_count": 12
        }
      ]
    },
    {
      "cell_type": "markdown",
      "source": [
        "Question 22) Intersection of two sets"
      ],
      "metadata": {
        "id": "56Vx19GSXCpa"
      }
    },
    {
      "cell_type": "code",
      "source": [
        "s1={}\n",
        "s2={}\n",
        "s1=set(s1)\n",
        "s2=set(s2)\n",
        "n1=int(input(\"enter the size of 1st set :\"))\n",
        "n2=int(input(\"enter the size of 2nd set : \"))\n",
        "for i in range(n1):\n",
        "  a=int(input())\n",
        "  s1.add(a)\n",
        "for i in range(n2):\n",
        "  a=int(input())\n",
        "  s2.add(a)\n",
        "print(s1&s2)"
      ],
      "metadata": {
        "colab": {
          "base_uri": "https://localhost:8080/"
        },
        "id": "1YdPTnwfXKqL",
        "outputId": "38d15569-9579-4fbb-d738-8e2aa66e6713"
      },
      "execution_count": null,
      "outputs": [
        {
          "output_type": "stream",
          "name": "stdout",
          "text": [
            "enter the size of 1st set :5\n",
            "enter the size of 2nd set : 7\n",
            "1\n",
            "1\n",
            "2\n",
            "2\n",
            "3\n",
            "1\n",
            "2\n",
            "3\n",
            "4\n",
            "5\n",
            "1\n",
            "1\n",
            "{1, 2, 3}\n"
          ]
        }
      ]
    },
    {
      "cell_type": "markdown",
      "source": [
        "Question 23) concatination of 2 tuples"
      ],
      "metadata": {
        "id": "XRwcNrc0ZmSE"
      }
    },
    {
      "cell_type": "code",
      "source": [
        "def concat(t1,t2):\n",
        "  t3=(t1,t2)\n",
        "  return t3\n",
        "concat((1,2,3),(2,3,4,5))"
      ],
      "metadata": {
        "colab": {
          "base_uri": "https://localhost:8080/"
        },
        "id": "PbZPXBqvZysO",
        "outputId": "3ab3a616-fb26-45e9-92ce-a24a946b706e"
      },
      "execution_count": null,
      "outputs": [
        {
          "output_type": "execute_result",
          "data": {
            "text/plain": [
              "((1, 2, 3), (2, 3, 4, 5))"
            ]
          },
          "metadata": {},
          "execution_count": 22
        }
      ]
    },
    {
      "cell_type": "markdown",
      "source": [
        "Question 24) Print the elements that are present in first string but not in second"
      ],
      "metadata": {
        "id": "VUXbT1buaHbg"
      }
    },
    {
      "cell_type": "code",
      "source": [
        "s1=input(\"enter the first string : \")\n",
        "s2=input('enter the second string : ')\n",
        "s3=\"\"\n",
        "for i in s1:\n",
        "  if i not in s2:\n",
        "    s3+=i\n",
        "print(s3)"
      ],
      "metadata": {
        "colab": {
          "base_uri": "https://localhost:8080/"
        },
        "id": "9yyAEvYJamSx",
        "outputId": "a9b6d262-06ac-41e3-bcac-9cc1c6684ad6"
      },
      "execution_count": null,
      "outputs": [
        {
          "output_type": "stream",
          "name": "stdout",
          "text": [
            "enter the first string : darshan\n",
            "enter the second string : devika\n",
            "rshn\n"
          ]
        }
      ]
    },
    {
      "cell_type": "markdown",
      "source": [
        "Question 25) operation on tuples"
      ],
      "metadata": {
        "id": "7CGzC6fybipT"
      }
    },
    {
      "cell_type": "code",
      "source": [
        "a=input(\"enter the values of tuple : \")\n",
        "a=tuple(int(x) for x in a.split(\",\"))\n",
        "n1=int(input(\"enter the value of ist index : \"))\n",
        "n2=int(input(\"enetr the value of 2nd index : \"))\n",
        "t3=a[n1:n2+1]\n",
        "print(t3)\n"
      ],
      "metadata": {
        "colab": {
          "base_uri": "https://localhost:8080/"
        },
        "id": "8HpKrnljbhtr",
        "outputId": "1abac61d-c511-47c6-bb44-a55d1107c4c2"
      },
      "execution_count": 1,
      "outputs": [
        {
          "output_type": "stream",
          "name": "stdout",
          "text": [
            "enter the values of tuple : 1,2,3,1,4,5,6\n",
            "enter the value of ist index : 1\n",
            "enetr the value of 2nd index : 5\n",
            "(2, 3, 1, 4, 5)\n"
          ]
        }
      ]
    },
    {
      "cell_type": "markdown",
      "source": [
        "Question 26) union of two set of characters"
      ],
      "metadata": {
        "id": "nn6s7bcFvEgo"
      }
    },
    {
      "cell_type": "code",
      "source": [
        "s1={}\n",
        "s2={}\n",
        "s1=set(s1)\n",
        "s2=set(s2)\n",
        "n1=int(input(\"enter the size of 1st set :\"))\n",
        "n2=int(input(\"enter the size of 2nd set : \"))\n",
        "for i in range(n1):\n",
        "  a=(input())\n",
        "  s1.add(a)\n",
        "for i in range(n2):\n",
        "  a=(input())\n",
        "  s2.add(a)\n",
        "print(s1&s2)"
      ],
      "metadata": {
        "id": "9aWprlTFnGiw",
        "colab": {
          "base_uri": "https://localhost:8080/"
        },
        "outputId": "f7cbc194-3acc-443b-b87e-8229df490d90"
      },
      "execution_count": 2,
      "outputs": [
        {
          "output_type": "stream",
          "name": "stdout",
          "text": [
            "enter the size of 1st set :5\n",
            "enter the size of 2nd set : 4\n",
            "a\n",
            "b\n",
            "c\n",
            "d\n",
            "e\n",
            "c\n",
            "d\n",
            "e\n",
            "d\n",
            "{'e', 'd', 'c'}\n"
          ]
        }
      ]
    },
    {
      "cell_type": "markdown",
      "source": [
        "Question 27) Tuple unpacking\n"
      ],
      "metadata": {
        "id": "tc5n2hIiv7Jd"
      }
    },
    {
      "cell_type": "code",
      "source": [
        "t1=(1,2,3,6,5,4)\n",
        "def min_max(t=()):\n",
        "  t3=tuple(filter(lambda x:x==min(t1) or x==max(t1),t1))\n",
        "  return t3\n",
        "min_max(t1)\n",
        ""
      ],
      "metadata": {
        "colab": {
          "base_uri": "https://localhost:8080/"
        },
        "id": "P31DUwG_1ZLh",
        "outputId": "21d5b906-c4f5-4ff0-ef3f-7222cb0969eb"
      },
      "execution_count": 3,
      "outputs": [
        {
          "output_type": "execute_result",
          "data": {
            "text/plain": [
              "(1, 6)"
            ]
          },
          "metadata": {},
          "execution_count": 3
        }
      ]
    },
    {
      "cell_type": "markdown",
      "source": [
        "Question 28) operation on sets"
      ],
      "metadata": {
        "id": "Q5ecYTLh2ZAA"
      }
    },
    {
      "cell_type": "code",
      "source": [
        "s1={1,2,3,4,5,5,1}\n",
        "s2={2,4,1,7,8,9}\n",
        "print(\"intersection of two sets\")\n",
        "print(s1&s2)\n",
        "print(\"union of 2 sets\")\n",
        "print(s1|s2)\n",
        "print(\"difference\")\n",
        "print(s1-s2)"
      ],
      "metadata": {
        "colab": {
          "base_uri": "https://localhost:8080/"
        },
        "id": "ZrFaK3mO2fh7",
        "outputId": "0515d7e2-f70d-4427-cd91-4776d4be1511"
      },
      "execution_count": 4,
      "outputs": [
        {
          "output_type": "stream",
          "name": "stdout",
          "text": [
            "intersection of two sets\n",
            "{1, 2, 4}\n",
            "union of 2 sets\n",
            "{1, 2, 3, 4, 5, 7, 8, 9}\n",
            "difference\n",
            "{3, 5}\n"
          ]
        }
      ]
    },
    {
      "cell_type": "markdown",
      "source": [
        "Question 29) count of element in tuple\n"
      ],
      "metadata": {
        "id": "DdqYsnq83l-L"
      }
    },
    {
      "cell_type": "code",
      "source": [
        "t1=(1,2,3,4,5,6,7,7,5,4,4)\n",
        "def count(t1=(),a=0):\n",
        "  return t1.count(a)\n",
        "count(t1,4)\n"
      ],
      "metadata": {
        "colab": {
          "base_uri": "https://localhost:8080/"
        },
        "id": "lqgEvYur3th6",
        "outputId": "a465b589-4206-4603-bfc5-10da9c7eb165"
      },
      "execution_count": 10,
      "outputs": [
        {
          "output_type": "execute_result",
          "data": {
            "text/plain": [
              "3"
            ]
          },
          "metadata": {},
          "execution_count": 10
        }
      ]
    },
    {
      "cell_type": "markdown",
      "source": [
        "question 30) Symmetric difference of 2 strings"
      ],
      "metadata": {
        "id": "P8v8OuEp5-tK"
      }
    },
    {
      "cell_type": "code",
      "source": [
        "s1=input(\"enter the first string : \")\n",
        "s2=input(\"enter the second string : \")\n",
        "s3=\"\"\n",
        "\n",
        "for i in s1:\n",
        "  if i not in s2:\n",
        "    s3+=i\n",
        "for i in s2:\n",
        "  if i not in s1:\n",
        "    s3+=i\n",
        "print(s3)"
      ],
      "metadata": {
        "colab": {
          "base_uri": "https://localhost:8080/"
        },
        "id": "uq4Vt6GE6bzG",
        "outputId": "4a6305bb-40c6-4ea6-f802-a5547ed2ec2e"
      },
      "execution_count": 12,
      "outputs": [
        {
          "output_type": "stream",
          "name": "stdout",
          "text": [
            "enter the first string : devika\n",
            "enter the second string : darshan\n",
            "evikrshn\n"
          ]
        }
      ]
    },
    {
      "cell_type": "markdown",
      "source": [
        "Question 31) code that merges 2 dictionaries"
      ],
      "metadata": {
        "id": "Xo937XmQriwX"
      }
    },
    {
      "cell_type": "code",
      "source": [
        "words=[]\n",
        "n=int(input(\"eneter the size : \"))\n",
        "for i in range(n):\n",
        "  a=input()\n",
        "  words.append(a)\n",
        "d={}\n",
        "for i in words:\n",
        "  if i not in d:\n",
        "    d[i]=1\n",
        "  else :\n",
        "    d[i]+=1\n",
        "print(d)"
      ],
      "metadata": {
        "colab": {
          "base_uri": "https://localhost:8080/"
        },
        "id": "wCA7XUOjr767",
        "outputId": "535b9454-8431-48d7-da65-e241bfe121f6"
      },
      "execution_count": 7,
      "outputs": [
        {
          "output_type": "stream",
          "name": "stdout",
          "text": [
            "eneter the size : 5\n",
            "sha\n",
            "vai\n",
            "sha\n",
            "vai\n",
            "sha\n",
            "{'sha': 3, 'vai': 2}\n"
          ]
        }
      ]
    },
    {
      "cell_type": "markdown",
      "source": [
        "question 32) merging of 2 dictionaries"
      ],
      "metadata": {
        "id": "9zurkRtkupIY"
      }
    },
    {
      "cell_type": "code",
      "source": [
        "d1={1:\"first\",2:\"second\",3:\"third\",4:\"fourth\"}\n",
        "d2={2:\"second\",4:\"fourth\",5:\"fifth\"}\n",
        "def merge(d1={},d2={}):\n",
        "  for i in d1:\n",
        "    if i not in d2:\n",
        "      d2.update({i:d1[i]})\n",
        "    else:\n",
        "      d2[i]+=d1[i]\n",
        "merge(d1,d2)\n",
        "print(d2)"
      ],
      "metadata": {
        "colab": {
          "base_uri": "https://localhost:8080/"
        },
        "id": "WN7P7XMEuvt-",
        "outputId": "1ae57f61-0e44-49ef-8ea5-18d895c06048"
      },
      "execution_count": 14,
      "outputs": [
        {
          "output_type": "stream",
          "name": "stdout",
          "text": [
            "{2: 'secondsecond', 4: 'fourthfourth', 5: 'fifth', 1: 'first', 3: 'third'}\n"
          ]
        }
      ]
    },
    {
      "cell_type": "markdown",
      "source": [
        "Question 33) nestd dictinories"
      ],
      "metadata": {
        "id": "f2kZG76Zx1Vj"
      }
    },
    {
      "cell_type": "code",
      "source": [
        "myfamily = {\n",
        "  \"child1\" : {\n",
        "    \"name\" : \"Emil\",\n",
        "    \"year\" : 2004\n",
        "  },\n",
        "  \"child2\" : {\n",
        "    \"name\" : \"Tobias\",\n",
        "    \"year\" : 2007\n",
        "  },\n",
        "  \"child3\" : {\n",
        "    \"name\" : \"Linus\",\n",
        "    \"year\" : 2011\n",
        "  }\n",
        "}\n",
        "l1=[\"child5\",\"child3\",\"child7\"]\n",
        "count=0\n",
        "def nested_dict(d={},l=[],count=0):\n",
        "    for i in l:\n",
        "     if i not in d:\n",
        "      count=count+1\n",
        "     elif count==len(l):\n",
        "      return None\n",
        "     else:\n",
        "      print(d[i])\n",
        "\n",
        "nested_dict(myfamily,l1,0)"
      ],
      "metadata": {
        "colab": {
          "base_uri": "https://localhost:8080/"
        },
        "id": "R3EoVCSWzgvh",
        "outputId": "f1068edb-7749-4a9b-e4cf-7cebbac77af4"
      },
      "execution_count": 34,
      "outputs": [
        {
          "output_type": "stream",
          "name": "stdout",
          "text": [
            "{'name': 'Linus', 'year': 2011}\n"
          ]
        }
      ]
    },
    {
      "cell_type": "markdown",
      "source": [
        "Question 34) Sorting dictionaries"
      ],
      "metadata": {
        "id": "WWs-w_cG4rTY"
      }
    },
    {
      "cell_type": "code",
      "source": [
        "d1={1:\"first\",2:\"second\",3:\"third\",4:\"fourth\"}\n",
        "list_keys=sorted(d1.values)\n",
        "sorted_dict={i}\n",
        "\n"
      ],
      "metadata": {
        "colab": {
          "base_uri": "https://localhost:8080/",
          "height": 158
        },
        "id": "L-VCNFFd5P0_",
        "outputId": "438473eb-3e74-453d-c543-aefe8c2bb045"
      },
      "execution_count": 37,
      "outputs": [
        {
          "output_type": "error",
          "ename": "AttributeError",
          "evalue": "'dict' object has no attribute 'sorted'",
          "traceback": [
            "\u001b[0;31m---------------------------------------------------------------------------\u001b[0m",
            "\u001b[0;31mAttributeError\u001b[0m                            Traceback (most recent call last)",
            "\u001b[0;32m<ipython-input-37-bbb33034e695>\u001b[0m in \u001b[0;36m<cell line: 2>\u001b[0;34m()\u001b[0m\n\u001b[1;32m      1\u001b[0m \u001b[0md1\u001b[0m\u001b[0;34m=\u001b[0m\u001b[0;34m{\u001b[0m\u001b[0;36m1\u001b[0m\u001b[0;34m:\u001b[0m\u001b[0;34m\"first\"\u001b[0m\u001b[0;34m,\u001b[0m\u001b[0;36m2\u001b[0m\u001b[0;34m:\u001b[0m\u001b[0;34m\"second\"\u001b[0m\u001b[0;34m,\u001b[0m\u001b[0;36m3\u001b[0m\u001b[0;34m:\u001b[0m\u001b[0;34m\"third\"\u001b[0m\u001b[0;34m,\u001b[0m\u001b[0;36m4\u001b[0m\u001b[0;34m:\u001b[0m\u001b[0;34m\"fourth\"\u001b[0m\u001b[0;34m}\u001b[0m\u001b[0;34m\u001b[0m\u001b[0;34m\u001b[0m\u001b[0m\n\u001b[0;32m----> 2\u001b[0;31m \u001b[0md1\u001b[0m\u001b[0;34m.\u001b[0m\u001b[0msorted\u001b[0m\u001b[0;34m(\u001b[0m\u001b[0md1\u001b[0m\u001b[0;34m.\u001b[0m\u001b[0mvalues\u001b[0m\u001b[0;34m(\u001b[0m\u001b[0;34m)\u001b[0m\u001b[0;34m)\u001b[0m\u001b[0;34m\u001b[0m\u001b[0;34m\u001b[0m\u001b[0m\n\u001b[0m",
            "\u001b[0;31mAttributeError\u001b[0m: 'dict' object has no attribute 'sorted'"
          ]
        }
      ]
    }
  ]
}